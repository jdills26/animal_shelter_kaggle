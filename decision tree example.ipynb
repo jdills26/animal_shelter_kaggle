{
 "cells": [
  {
   "cell_type": "code",
   "execution_count": 112,
   "metadata": {
    "collapsed": true
   },
   "outputs": [],
   "source": [
    "import os\n",
    "import subprocess\n",
    "\n",
    "import pandas as pd\n",
    "import numpy as np\n",
    "from sklearn.tree import DecisionTreeClassifier, export_graphviz \n",
    "\n",
    "\n",
    "from sklearn import tree\n",
    "from pandas import read_table, DataFrame\n",
    "from os import system"
   ]
  },
  {
   "cell_type": "code",
   "execution_count": 113,
   "metadata": {
    "collapsed": true
   },
   "outputs": [],
   "source": [
    "df = pd.read_csv('train.csv')"
   ]
  },
  {
   "cell_type": "code",
   "execution_count": 114,
   "metadata": {
    "collapsed": false
   },
   "outputs": [
    {
     "name": "stdout",
     "output_type": "stream",
     "text": [
      "* df.head()\n",
      "  AnimalID     Name          DateTime      OutcomeType OutcomeSubtype  \\\n",
      "0  A671945  Hambone   2/12/2014 18:22  Return_to_owner            NaN   \n",
      "1  A656520    Emily  10/13/2013 12:44       Euthanasia      Suffering   \n",
      "2  A686464   Pearce   1/31/2015 12:28         Adoption         Foster   \n",
      "3  A683430      NaN   7/11/2014 19:09         Transfer        Partner   \n",
      "4  A667013      NaN  11/15/2013 12:52         Transfer        Partner   \n",
      "\n",
      "  AnimalType SexuponOutcome AgeuponOutcome                        Breed  \\\n",
      "0        Dog  Neutered Male         1 year        Shetland Sheepdog Mix   \n",
      "1        Cat  Spayed Female         1 year       Domestic Shorthair Mix   \n",
      "2        Dog  Neutered Male        2 years                 Pit Bull Mix   \n",
      "3        Cat    Intact Male        3 weeks       Domestic Shorthair Mix   \n",
      "4        Dog  Neutered Male        2 years  Lhasa Apso/Miniature Poodle   \n",
      "\n",
      "         Color  \n",
      "0  Brown/White  \n",
      "1  Cream Tabby  \n",
      "2   Blue/White  \n",
      "3   Blue Cream  \n",
      "4          Tan  \n",
      "\n",
      "* df.tail()\n",
      "      AnimalID  Name         DateTime OutcomeType OutcomeSubtype AnimalType  \\\n",
      "26724  A702446   NaN  5/14/2015 11:56    Transfer        Partner        Cat   \n",
      "26725  A718934   NaN  1/20/2016 18:59    Transfer           SCRP        Cat   \n",
      "26726  A698128  Zeus   3/9/2015 13:33    Adoption            NaN        Dog   \n",
      "26727  A677478   NaN  4/27/2014 12:22    Transfer        Partner        Cat   \n",
      "26728  A706629   NaN    7/2/2015 9:00    Transfer           SCRP        Cat   \n",
      "\n",
      "      SexuponOutcome AgeuponOutcome                    Breed  \\\n",
      "26724    Intact Male        1 month   Domestic Shorthair Mix   \n",
      "26725  Spayed Female       3 months   Domestic Shorthair Mix   \n",
      "26726  Neutered Male        4 years  Old English Bulldog Mix   \n",
      "26727    Intact Male        4 weeks   Domestic Shorthair Mix   \n",
      "26728    Intact Male         1 year   Domestic Shorthair Mix   \n",
      "\n",
      "                   Color  \n",
      "26724  Brown Tabby/White  \n",
      "26725        Brown Tabby  \n",
      "26726          White/Tan  \n",
      "26727              Black  \n",
      "26728  Brown Tabby/White  \n",
      "\n"
     ]
    },
    {
     "data": {
      "text/plain": [
       "['AnimalID',\n",
       " 'Name',\n",
       " 'DateTime',\n",
       " 'OutcomeType',\n",
       " 'OutcomeSubtype',\n",
       " 'AnimalType',\n",
       " 'SexuponOutcome',\n",
       " 'AgeuponOutcome',\n",
       " 'Breed',\n",
       " 'Color']"
      ]
     },
     "execution_count": 114,
     "metadata": {},
     "output_type": "execute_result"
    }
   ],
   "source": [
    "print(\"* df.head()\", df.head(), sep=\"\\n\", end=\"\\n\\n\")\n",
    "print(\"* df.tail()\", df.tail(), sep=\"\\n\", end=\"\\n\\n\")\n",
    "list(df)"
   ]
  },
  {
   "cell_type": "code",
   "execution_count": 115,
   "metadata": {
    "collapsed": false
   },
   "outputs": [
    {
     "name": "stdout",
     "output_type": "stream",
     "text": [
      "* outcome types: ['Return_to_owner' 'Euthanasia' 'Adoption' 'Transfer' 'Died']\n"
     ]
    }
   ],
   "source": [
    "#goal: to predict outcome (adoption, return to owner, euthanasia, diead) given the features SexuponOutcome, AgeuponOutcome, Breed and Color. \n",
    "#We can use pandas to show the adoption types:\n",
    "print(\"* outcome types:\", df[\"OutcomeType\"].unique())"
   ]
  },
  {
   "cell_type": "code",
   "execution_count": 47,
   "metadata": {
    "collapsed": true
   },
   "outputs": [],
   "source": [
    "def encode_target(df, target_column):\n",
    "    df_mod = df.copy()\n",
    "    targets = df_mod[target_column].unique()\n",
    "    map_to_int = {name: n for n, name in enumerate(targets)}\n",
    "    df_mod[\"Target\"] = df_mod[target_column].replace(map_to_int)\n",
    "\n",
    "    return (df_mod, targets)"
   ]
  },
  {
   "cell_type": "code",
   "execution_count": 57,
   "metadata": {
    "collapsed": true
   },
   "outputs": [],
   "source": [
    "def get_sex(x):\n",
    "    x=str(x)\n",
    "    if x.find('Male') >= 0: return 'male'\n",
    "    if x.find('Female') >= 0: return 'female'\n",
    "    return 'unknown'\n",
    "def get_neutered(x):\n",
    "    x=str(x)\n",
    "    if x.find('Spayed') >= 0: return 'neutered'\n",
    "    if x.find('Neutered') >= 0: return 'neutered'\n",
    "    if x.find('Intact') >= 0: return 'intact'\n",
    "    return 'unknown'"
   ]
  },
  {
   "cell_type": "code",
   "execution_count": 59,
   "metadata": {
    "collapsed": false
   },
   "outputs": [],
   "source": [
    "df['Sex']=df.SexuponOutcome.apply(get_sex)\n",
    "df['Neutered']= df.SexuponOutcome.apply(get_neutered)"
   ]
  },
  {
   "cell_type": "code",
   "execution_count": 60,
   "metadata": {
    "collapsed": true
   },
   "outputs": [],
   "source": [
    "#looking at csv file, if 'Mix' in the desc then assume not purebred. ex.American Pit Bull Terrier Mix\n",
    "def get_mix(x):\n",
    "    x = str(x)\n",
    "    if x.find('Mix')>= 0: return 'mix'\n",
    "    return 'not'"
   ]
  },
  {
   "cell_type": "code",
   "execution_count": 66,
   "metadata": {
    "collapsed": true
   },
   "outputs": [],
   "source": [
    "def calc_age_in_years(x):\n",
    "    x=str(x)\n",
    "    if x == 'nan': return 0\n",
    "    age = int(x.split()[0])\n",
    "    if x.find('year')> -1: return age\n",
    "    if x.find('month')> -1: return age/12.\n",
    "    if x.find('week')> -1: return age/52.\n",
    "    if x.find('day')> -1: return age/365.\n",
    "    else: return 0"
   ]
  },
  {
   "cell_type": "code",
   "execution_count": 67,
   "metadata": {
    "collapsed": true
   },
   "outputs": [],
   "source": [
    "df['AgeInYears'] = df.AgeuponOutcome.apply(calc_age_in_years)"
   ]
  },
  {
   "cell_type": "code",
   "execution_count": 68,
   "metadata": {
    "collapsed": true
   },
   "outputs": [],
   "source": [
    "def calc_age_category(x):\n",
    "    if x < 3: return 'young'\n",
    "    if x < 5: return 'young adult'\n",
    "    if x < 10: return 'adult'\n",
    "    return 'old'"
   ]
  },
  {
   "cell_type": "code",
   "execution_count": 69,
   "metadata": {
    "collapsed": false
   },
   "outputs": [],
   "source": [
    "df['Mix']= df.Breed.apply(get_mix)\n",
    "df['AgeCategory']=df.AgeInYears.apply(calc_age_category)"
   ]
  },
  {
   "cell_type": "code",
   "execution_count": 70,
   "metadata": {
    "collapsed": false
   },
   "outputs": [
    {
     "data": {
      "text/plain": [
       "['AnimalID',\n",
       " 'Name',\n",
       " 'DateTime',\n",
       " 'OutcomeType',\n",
       " 'OutcomeSubtype',\n",
       " 'AnimalType',\n",
       " 'SexuponOutcome',\n",
       " 'AgeuponOutcome',\n",
       " 'Breed',\n",
       " 'Color',\n",
       " 'Sex',\n",
       " 'Neutered',\n",
       " 'Mix',\n",
       " 'AgeInYears',\n",
       " 'AgeCategory']"
      ]
     },
     "execution_count": 70,
     "metadata": {},
     "output_type": "execute_result"
    }
   ],
   "source": [
    "list(df)"
   ]
  },
  {
   "cell_type": "code",
   "execution_count": 78,
   "metadata": {
    "collapsed": false
   },
   "outputs": [],
   "source": [
    "sex_dummies = pd.get_dummies(df['Sex'])\n",
    "age_group_dummies = pd.get_dummies(df['AgeCategory'])\n",
    "mix_dummies = pd.get_dummies(df['Mix'])\n",
    "neutered_dummies = pd.get_dummies(df['SexuponOutcome'])"
   ]
  },
  {
   "cell_type": "code",
   "execution_count": 83,
   "metadata": {
    "collapsed": false
   },
   "outputs": [],
   "source": [
    "df3= pd.concat([sex_dummies, age_group_dummies, mix_dummies, neutered_dummies], axis=1)"
   ]
  },
  {
   "cell_type": "code",
   "execution_count": 84,
   "metadata": {
    "collapsed": false
   },
   "outputs": [
    {
     "data": {
      "text/html": [
       "<div>\n",
       "<table border=\"1\" class=\"dataframe\">\n",
       "  <thead>\n",
       "    <tr style=\"text-align: right;\">\n",
       "      <th></th>\n",
       "      <th>female</th>\n",
       "      <th>male</th>\n",
       "      <th>unknown</th>\n",
       "      <th>adult</th>\n",
       "      <th>old</th>\n",
       "      <th>young</th>\n",
       "      <th>young adult</th>\n",
       "      <th>mix</th>\n",
       "      <th>not</th>\n",
       "      <th>Intact Female</th>\n",
       "      <th>Intact Male</th>\n",
       "      <th>Neutered Male</th>\n",
       "      <th>Spayed Female</th>\n",
       "      <th>Unknown</th>\n",
       "    </tr>\n",
       "  </thead>\n",
       "  <tbody>\n",
       "    <tr>\n",
       "      <th>0</th>\n",
       "      <td>0.0</td>\n",
       "      <td>1.0</td>\n",
       "      <td>0.0</td>\n",
       "      <td>0.0</td>\n",
       "      <td>0.0</td>\n",
       "      <td>1.0</td>\n",
       "      <td>0.0</td>\n",
       "      <td>1.0</td>\n",
       "      <td>0.0</td>\n",
       "      <td>0.0</td>\n",
       "      <td>0.0</td>\n",
       "      <td>1.0</td>\n",
       "      <td>0.0</td>\n",
       "      <td>0.0</td>\n",
       "    </tr>\n",
       "    <tr>\n",
       "      <th>1</th>\n",
       "      <td>1.0</td>\n",
       "      <td>0.0</td>\n",
       "      <td>0.0</td>\n",
       "      <td>0.0</td>\n",
       "      <td>0.0</td>\n",
       "      <td>1.0</td>\n",
       "      <td>0.0</td>\n",
       "      <td>1.0</td>\n",
       "      <td>0.0</td>\n",
       "      <td>0.0</td>\n",
       "      <td>0.0</td>\n",
       "      <td>0.0</td>\n",
       "      <td>1.0</td>\n",
       "      <td>0.0</td>\n",
       "    </tr>\n",
       "    <tr>\n",
       "      <th>2</th>\n",
       "      <td>0.0</td>\n",
       "      <td>1.0</td>\n",
       "      <td>0.0</td>\n",
       "      <td>0.0</td>\n",
       "      <td>0.0</td>\n",
       "      <td>1.0</td>\n",
       "      <td>0.0</td>\n",
       "      <td>1.0</td>\n",
       "      <td>0.0</td>\n",
       "      <td>0.0</td>\n",
       "      <td>0.0</td>\n",
       "      <td>1.0</td>\n",
       "      <td>0.0</td>\n",
       "      <td>0.0</td>\n",
       "    </tr>\n",
       "    <tr>\n",
       "      <th>3</th>\n",
       "      <td>0.0</td>\n",
       "      <td>1.0</td>\n",
       "      <td>0.0</td>\n",
       "      <td>0.0</td>\n",
       "      <td>0.0</td>\n",
       "      <td>1.0</td>\n",
       "      <td>0.0</td>\n",
       "      <td>1.0</td>\n",
       "      <td>0.0</td>\n",
       "      <td>0.0</td>\n",
       "      <td>1.0</td>\n",
       "      <td>0.0</td>\n",
       "      <td>0.0</td>\n",
       "      <td>0.0</td>\n",
       "    </tr>\n",
       "    <tr>\n",
       "      <th>4</th>\n",
       "      <td>0.0</td>\n",
       "      <td>1.0</td>\n",
       "      <td>0.0</td>\n",
       "      <td>0.0</td>\n",
       "      <td>0.0</td>\n",
       "      <td>1.0</td>\n",
       "      <td>0.0</td>\n",
       "      <td>0.0</td>\n",
       "      <td>1.0</td>\n",
       "      <td>0.0</td>\n",
       "      <td>0.0</td>\n",
       "      <td>1.0</td>\n",
       "      <td>0.0</td>\n",
       "      <td>0.0</td>\n",
       "    </tr>\n",
       "  </tbody>\n",
       "</table>\n",
       "</div>"
      ],
      "text/plain": [
       "   female  male  unknown  adult  old  young  young adult  mix  not  \\\n",
       "0     0.0   1.0      0.0    0.0  0.0    1.0          0.0  1.0  0.0   \n",
       "1     1.0   0.0      0.0    0.0  0.0    1.0          0.0  1.0  0.0   \n",
       "2     0.0   1.0      0.0    0.0  0.0    1.0          0.0  1.0  0.0   \n",
       "3     0.0   1.0      0.0    0.0  0.0    1.0          0.0  1.0  0.0   \n",
       "4     0.0   1.0      0.0    0.0  0.0    1.0          0.0  0.0  1.0   \n",
       "\n",
       "   Intact Female  Intact Male  Neutered Male  Spayed Female  Unknown  \n",
       "0            0.0          0.0            1.0            0.0      0.0  \n",
       "1            0.0          0.0            0.0            1.0      0.0  \n",
       "2            0.0          0.0            1.0            0.0      0.0  \n",
       "3            0.0          1.0            0.0            0.0      0.0  \n",
       "4            0.0          0.0            1.0            0.0      0.0  "
      ]
     },
     "execution_count": 84,
     "metadata": {},
     "output_type": "execute_result"
    }
   ],
   "source": [
    "df3.head()"
   ]
  },
  {
   "cell_type": "code",
   "execution_count": 72,
   "metadata": {
    "collapsed": false
   },
   "outputs": [
    {
     "data": {
      "text/plain": [
       "['AnimalID',\n",
       " 'Name',\n",
       " 'DateTime',\n",
       " 'OutcomeType',\n",
       " 'OutcomeSubtype',\n",
       " 'AnimalType',\n",
       " 'SexuponOutcome',\n",
       " 'AgeuponOutcome',\n",
       " 'Breed',\n",
       " 'Color',\n",
       " 'Sex',\n",
       " 'Neutered',\n",
       " 'Mix',\n",
       " 'AgeInYears',\n",
       " 'AgeCategory']"
      ]
     },
     "execution_count": 72,
     "metadata": {},
     "output_type": "execute_result"
    }
   ],
   "source": [
    "list(df)"
   ]
  },
  {
   "cell_type": "code",
   "execution_count": 85,
   "metadata": {
    "collapsed": true
   },
   "outputs": [],
   "source": [
    "df2, targets = encode_target(df, \"OutcomeType\")"
   ]
  },
  {
   "cell_type": "code",
   "execution_count": 86,
   "metadata": {
    "collapsed": false,
    "scrolled": true
   },
   "outputs": [
    {
     "data": {
      "text/html": [
       "<div>\n",
       "<table border=\"1\" class=\"dataframe\">\n",
       "  <thead>\n",
       "    <tr style=\"text-align: right;\">\n",
       "      <th></th>\n",
       "      <th>Target</th>\n",
       "      <th>OutcomeType</th>\n",
       "    </tr>\n",
       "  </thead>\n",
       "  <tbody>\n",
       "    <tr>\n",
       "      <th>0</th>\n",
       "      <td>0</td>\n",
       "      <td>Return_to_owner</td>\n",
       "    </tr>\n",
       "    <tr>\n",
       "      <th>1</th>\n",
       "      <td>1</td>\n",
       "      <td>Euthanasia</td>\n",
       "    </tr>\n",
       "    <tr>\n",
       "      <th>2</th>\n",
       "      <td>2</td>\n",
       "      <td>Adoption</td>\n",
       "    </tr>\n",
       "    <tr>\n",
       "      <th>3</th>\n",
       "      <td>3</td>\n",
       "      <td>Transfer</td>\n",
       "    </tr>\n",
       "    <tr>\n",
       "      <th>4</th>\n",
       "      <td>3</td>\n",
       "      <td>Transfer</td>\n",
       "    </tr>\n",
       "  </tbody>\n",
       "</table>\n",
       "</div>"
      ],
      "text/plain": [
       "   Target      OutcomeType\n",
       "0       0  Return_to_owner\n",
       "1       1       Euthanasia\n",
       "2       2         Adoption\n",
       "3       3         Transfer\n",
       "4       3         Transfer"
      ]
     },
     "execution_count": 86,
     "metadata": {},
     "output_type": "execute_result"
    }
   ],
   "source": [
    "df2[[\"Target\", \"OutcomeType\"]].head()"
   ]
  },
  {
   "cell_type": "code",
   "execution_count": 87,
   "metadata": {
    "collapsed": false
   },
   "outputs": [
    {
     "data": {
      "text/html": [
       "<div>\n",
       "<table border=\"1\" class=\"dataframe\">\n",
       "  <thead>\n",
       "    <tr style=\"text-align: right;\">\n",
       "      <th></th>\n",
       "      <th>AnimalID</th>\n",
       "      <th>Name</th>\n",
       "      <th>DateTime</th>\n",
       "      <th>OutcomeType</th>\n",
       "      <th>OutcomeSubtype</th>\n",
       "      <th>AnimalType</th>\n",
       "      <th>SexuponOutcome</th>\n",
       "      <th>AgeuponOutcome</th>\n",
       "      <th>Breed</th>\n",
       "      <th>Color</th>\n",
       "      <th>Sex</th>\n",
       "      <th>Neutered</th>\n",
       "      <th>Mix</th>\n",
       "      <th>AgeInYears</th>\n",
       "      <th>AgeCategory</th>\n",
       "      <th>Target</th>\n",
       "    </tr>\n",
       "  </thead>\n",
       "  <tbody>\n",
       "    <tr>\n",
       "      <th>0</th>\n",
       "      <td>A671945</td>\n",
       "      <td>Hambone</td>\n",
       "      <td>2/12/2014 18:22</td>\n",
       "      <td>Return_to_owner</td>\n",
       "      <td>NaN</td>\n",
       "      <td>Dog</td>\n",
       "      <td>Neutered Male</td>\n",
       "      <td>1 year</td>\n",
       "      <td>Shetland Sheepdog Mix</td>\n",
       "      <td>Brown/White</td>\n",
       "      <td>male</td>\n",
       "      <td>neutered</td>\n",
       "      <td>mix</td>\n",
       "      <td>1.000000</td>\n",
       "      <td>young</td>\n",
       "      <td>0</td>\n",
       "    </tr>\n",
       "    <tr>\n",
       "      <th>1</th>\n",
       "      <td>A656520</td>\n",
       "      <td>Emily</td>\n",
       "      <td>10/13/2013 12:44</td>\n",
       "      <td>Euthanasia</td>\n",
       "      <td>Suffering</td>\n",
       "      <td>Cat</td>\n",
       "      <td>Spayed Female</td>\n",
       "      <td>1 year</td>\n",
       "      <td>Domestic Shorthair Mix</td>\n",
       "      <td>Cream Tabby</td>\n",
       "      <td>female</td>\n",
       "      <td>neutered</td>\n",
       "      <td>mix</td>\n",
       "      <td>1.000000</td>\n",
       "      <td>young</td>\n",
       "      <td>1</td>\n",
       "    </tr>\n",
       "    <tr>\n",
       "      <th>2</th>\n",
       "      <td>A686464</td>\n",
       "      <td>Pearce</td>\n",
       "      <td>1/31/2015 12:28</td>\n",
       "      <td>Adoption</td>\n",
       "      <td>Foster</td>\n",
       "      <td>Dog</td>\n",
       "      <td>Neutered Male</td>\n",
       "      <td>2 years</td>\n",
       "      <td>Pit Bull Mix</td>\n",
       "      <td>Blue/White</td>\n",
       "      <td>male</td>\n",
       "      <td>neutered</td>\n",
       "      <td>mix</td>\n",
       "      <td>2.000000</td>\n",
       "      <td>young</td>\n",
       "      <td>2</td>\n",
       "    </tr>\n",
       "    <tr>\n",
       "      <th>3</th>\n",
       "      <td>A683430</td>\n",
       "      <td>NaN</td>\n",
       "      <td>7/11/2014 19:09</td>\n",
       "      <td>Transfer</td>\n",
       "      <td>Partner</td>\n",
       "      <td>Cat</td>\n",
       "      <td>Intact Male</td>\n",
       "      <td>3 weeks</td>\n",
       "      <td>Domestic Shorthair Mix</td>\n",
       "      <td>Blue Cream</td>\n",
       "      <td>male</td>\n",
       "      <td>intact</td>\n",
       "      <td>mix</td>\n",
       "      <td>0.057692</td>\n",
       "      <td>young</td>\n",
       "      <td>3</td>\n",
       "    </tr>\n",
       "    <tr>\n",
       "      <th>4</th>\n",
       "      <td>A667013</td>\n",
       "      <td>NaN</td>\n",
       "      <td>11/15/2013 12:52</td>\n",
       "      <td>Transfer</td>\n",
       "      <td>Partner</td>\n",
       "      <td>Dog</td>\n",
       "      <td>Neutered Male</td>\n",
       "      <td>2 years</td>\n",
       "      <td>Lhasa Apso/Miniature Poodle</td>\n",
       "      <td>Tan</td>\n",
       "      <td>male</td>\n",
       "      <td>neutered</td>\n",
       "      <td>not</td>\n",
       "      <td>2.000000</td>\n",
       "      <td>young</td>\n",
       "      <td>3</td>\n",
       "    </tr>\n",
       "  </tbody>\n",
       "</table>\n",
       "</div>"
      ],
      "text/plain": [
       "  AnimalID     Name          DateTime      OutcomeType OutcomeSubtype  \\\n",
       "0  A671945  Hambone   2/12/2014 18:22  Return_to_owner            NaN   \n",
       "1  A656520    Emily  10/13/2013 12:44       Euthanasia      Suffering   \n",
       "2  A686464   Pearce   1/31/2015 12:28         Adoption         Foster   \n",
       "3  A683430      NaN   7/11/2014 19:09         Transfer        Partner   \n",
       "4  A667013      NaN  11/15/2013 12:52         Transfer        Partner   \n",
       "\n",
       "  AnimalType SexuponOutcome AgeuponOutcome                        Breed  \\\n",
       "0        Dog  Neutered Male         1 year        Shetland Sheepdog Mix   \n",
       "1        Cat  Spayed Female         1 year       Domestic Shorthair Mix   \n",
       "2        Dog  Neutered Male        2 years                 Pit Bull Mix   \n",
       "3        Cat    Intact Male        3 weeks       Domestic Shorthair Mix   \n",
       "4        Dog  Neutered Male        2 years  Lhasa Apso/Miniature Poodle   \n",
       "\n",
       "         Color     Sex  Neutered  Mix  AgeInYears AgeCategory  Target  \n",
       "0  Brown/White    male  neutered  mix    1.000000       young       0  \n",
       "1  Cream Tabby  female  neutered  mix    1.000000       young       1  \n",
       "2   Blue/White    male  neutered  mix    2.000000       young       2  \n",
       "3   Blue Cream    male    intact  mix    0.057692       young       3  \n",
       "4          Tan    male  neutered  not    2.000000       young       3  "
      ]
     },
     "execution_count": 87,
     "metadata": {},
     "output_type": "execute_result"
    }
   ],
   "source": [
    "df2.head()"
   ]
  },
  {
   "cell_type": "code",
   "execution_count": 52,
   "metadata": {
    "collapsed": false
   },
   "outputs": [
    {
     "data": {
      "text/plain": [
       "array([0, 1, 2, 3, 4], dtype=int64)"
      ]
     },
     "execution_count": 52,
     "metadata": {},
     "output_type": "execute_result"
    }
   ],
   "source": [
    "df2[\"Target\"].unique()"
   ]
  },
  {
   "cell_type": "code",
   "execution_count": 19,
   "metadata": {
    "collapsed": true
   },
   "outputs": [],
   "source": [
    "#return to owner = 0, euthanasia =1, adoption =2, transfer =3, died = 4"
   ]
  },
  {
   "cell_type": "code",
   "execution_count": 90,
   "metadata": {
    "collapsed": false,
    "scrolled": true
   },
   "outputs": [],
   "source": [
    "df_all = df2.join(df3)"
   ]
  },
  {
   "cell_type": "code",
   "execution_count": 91,
   "metadata": {
    "collapsed": false
   },
   "outputs": [
    {
     "data": {
      "text/plain": [
       "['AnimalID',\n",
       " 'Name',\n",
       " 'DateTime',\n",
       " 'OutcomeType',\n",
       " 'OutcomeSubtype',\n",
       " 'AnimalType',\n",
       " 'SexuponOutcome',\n",
       " 'AgeuponOutcome',\n",
       " 'Breed',\n",
       " 'Color',\n",
       " 'Sex',\n",
       " 'Neutered',\n",
       " 'Mix',\n",
       " 'AgeInYears',\n",
       " 'AgeCategory',\n",
       " 'Target',\n",
       " 'female',\n",
       " 'male',\n",
       " 'unknown',\n",
       " 'adult',\n",
       " 'old',\n",
       " 'young',\n",
       " 'young adult',\n",
       " 'mix',\n",
       " 'not',\n",
       " 'Intact Female',\n",
       " 'Intact Male',\n",
       " 'Neutered Male',\n",
       " 'Spayed Female',\n",
       " 'Unknown']"
      ]
     },
     "execution_count": 91,
     "metadata": {},
     "output_type": "execute_result"
    }
   ],
   "source": [
    "list(df_all)"
   ]
  },
  {
   "cell_type": "code",
   "execution_count": 97,
   "metadata": {
    "collapsed": false
   },
   "outputs": [
    {
     "data": {
      "text/plain": [
       "['female',\n",
       " 'male',\n",
       " 'unknown',\n",
       " 'adult',\n",
       " 'old',\n",
       " 'young',\n",
       " 'young adult',\n",
       " 'mix',\n",
       " 'not',\n",
       " 'Intact Female',\n",
       " 'Intact Male',\n",
       " 'Neutered Male',\n",
       " 'Spayed Female',\n",
       " 'Unknown']"
      ]
     },
     "execution_count": 97,
     "metadata": {},
     "output_type": "execute_result"
    }
   ],
   "source": [
    "features = list(df_all.columns[16:30])\n",
    "features"
   ]
  },
  {
   "cell_type": "code",
   "execution_count": 98,
   "metadata": {
    "collapsed": false
   },
   "outputs": [
    {
     "data": {
      "text/plain": [
       "DecisionTreeClassifier(class_weight=None, criterion='gini', max_depth=None,\n",
       "            max_features=None, max_leaf_nodes=None, min_samples_leaf=1,\n",
       "            min_samples_split=20, min_weight_fraction_leaf=0.0,\n",
       "            presort=False, random_state=99, splitter='best')"
      ]
     },
     "execution_count": 98,
     "metadata": {},
     "output_type": "execute_result"
    }
   ],
   "source": [
    "y = df_all[\"Target\"]\n",
    "X = df_all[features]\n",
    "dt = DecisionTreeClassifier(min_samples_split=20, random_state=99)\n",
    "dt.fit(X, y)"
   ]
  },
  {
   "cell_type": "code",
   "execution_count": 116,
   "metadata": {
    "collapsed": true
   },
   "outputs": [],
   "source": [
    "def visualize_tree(tree, feature_names):\n",
    "    \"\"\"Create tree png using graphviz.\n",
    "\n",
    "    Args\n",
    "    ----\n",
    "    tree -- scikit-learn DecsisionTree.\n",
    "    feature_names -- list of feature names.\n",
    "    \"\"\"\n",
    "    with open(\"dt.dot\", 'w') as f:\n",
    "        export_graphviz(tree, out_file=f,\n",
    "                        feature_names=feature_names)\n",
    "\n",
    "    command = [\"dot\", \"-Tpng\", \"dt.dot\", \"-o\", \"dt.png\"]\n",
    "    try:\n",
    "        subprocess.check_call(command)\n",
    "    except:\n",
    "        exit(\"Could not run dot, ie graphviz, to \"\n",
    "             \"produce visualization\")"
   ]
  },
  {
   "cell_type": "code",
   "execution_count": 117,
   "metadata": {
    "collapsed": false
   },
   "outputs": [],
   "source": [
    "%matplotlib inline\n",
    "visualize_tree(dt, features)"
   ]
  },
  {
   "cell_type": "code",
   "execution_count": 118,
   "metadata": {
    "collapsed": false
   },
   "outputs": [
    {
     "data": {
      "text/plain": [
       "DecisionTreeClassifier(class_weight=None, criterion='gini', max_depth=None,\n",
       "            max_features=None, max_leaf_nodes=None, min_samples_leaf=1,\n",
       "            min_samples_split=20, min_weight_fraction_leaf=0.0,\n",
       "            presort=False, random_state=99, splitter='best')"
      ]
     },
     "execution_count": 118,
     "metadata": {},
     "output_type": "execute_result"
    }
   ],
   "source": [
    "dt"
   ]
  },
  {
   "cell_type": "code",
   "execution_count": 110,
   "metadata": {
    "collapsed": false
   },
   "outputs": [
    {
     "name": "stdout",
     "output_type": "stream",
     "text": [
      "                    Imp\n",
      "Intact Male    0.306957\n",
      "Intact Female  0.257944\n",
      "young          0.210222\n",
      "Unknown        0.200231\n",
      "old            0.006327\n",
      "young adult    0.006193\n",
      "mix            0.003844\n",
      "female         0.003783\n",
      "not            0.002366\n",
      "adult          0.001271\n",
      "male           0.000576\n",
      "Spayed Female  0.000194\n",
      "Neutered Male  0.000092\n",
      "unknown        0.000000\n"
     ]
    }
   ],
   "source": [
    "# PRINT OUT VARIABLE IMPORTANCE\n",
    "print(DataFrame(dt.feature_importances_, columns = [\"Imp\"], index = X.columns).sort_values(['Imp'], ascending = False))"
   ]
  },
  {
   "cell_type": "code",
   "execution_count": 103,
   "metadata": {
    "collapsed": true
   },
   "outputs": [],
   "source": [
    "def get_code(tree, feature_names, target_names,\n",
    "             spacer_base=\"    \"):\n",
    "    \"\"\"Produce psuedo-code for decision tree.\n",
    "\n",
    "    Args\n",
    "    ----\n",
    "    tree -- scikit-leant DescisionTree.\n",
    "    feature_names -- list of feature names.\n",
    "    target_names -- list of target (class) names.\n",
    "    spacer_base -- used for spacing code (default: \"    \").\n",
    "\n",
    "    Notes\n",
    "    -----\n",
    "    based on http://stackoverflow.com/a/30104792.\n",
    "    \"\"\"\n",
    "    left      = tree.tree_.children_left\n",
    "    right     = tree.tree_.children_right\n",
    "    threshold = tree.tree_.threshold\n",
    "    features  = [feature_names[i] for i in tree.tree_.feature]\n",
    "    value = tree.tree_.value\n",
    "\n",
    "    def recurse(left, right, threshold, features, node, depth):\n",
    "        spacer = spacer_base * depth\n",
    "        if (threshold[node] != -2):\n",
    "            print(spacer + \"if ( \" + features[node] + \" <= \" + \\\n",
    "                  str(threshold[node]) + \" ) {\")\n",
    "            if left[node] != -1:\n",
    "                    recurse(left, right, threshold, features,\n",
    "                            left[node], depth+1)\n",
    "            print(spacer + \"}\\n\" + spacer +\"else {\")\n",
    "            if right[node] != -1:\n",
    "                    recurse(left, right, threshold, features,\n",
    "                            right[node], depth+1)\n",
    "            print(spacer + \"}\")\n",
    "        else:\n",
    "            target = value[node]\n",
    "            for i, v in zip(np.nonzero(target)[1],\n",
    "                            target[np.nonzero(target)]):\n",
    "                target_name = target_names[i]\n",
    "                target_count = int(v)\n",
    "                print(spacer + \"return \" + str(target_name) + \\\n",
    "                      \" ( \" + str(target_count) + \" examples )\")\n",
    "\n",
    "    recurse(left, right, threshold, features, 0, 0)"
   ]
  },
  {
   "cell_type": "code",
   "execution_count": 111,
   "metadata": {
    "collapsed": false
   },
   "outputs": [],
   "source": [
    "#get_code(dt, features, targets)\n",
    "#this runs but doesn't look good/isn't very readable"
   ]
  },
  {
   "cell_type": "code",
   "execution_count": null,
   "metadata": {
    "collapsed": true
   },
   "outputs": [],
   "source": []
  }
 ],
 "metadata": {
  "kernelspec": {
   "display_name": "Python 3",
   "language": "python",
   "name": "python3"
  },
  "language_info": {
   "codemirror_mode": {
    "name": "ipython",
    "version": 3
   },
   "file_extension": ".py",
   "mimetype": "text/x-python",
   "name": "python",
   "nbconvert_exporter": "python",
   "pygments_lexer": "ipython3",
   "version": "3.5.1"
  }
 },
 "nbformat": 4,
 "nbformat_minor": 0
}
